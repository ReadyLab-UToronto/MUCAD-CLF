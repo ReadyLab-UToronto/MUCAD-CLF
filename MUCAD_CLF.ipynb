{
  "nbformat": 4,
  "nbformat_minor": 0,
  "metadata": {
    "colab": {
      "name": "MUCAD-CLF PUBLIC.ipynb",
      "provenance": [],
      "collapsed_sections": []
    },
    "kernelspec": {
      "name": "python3",
      "display_name": "Python 3"
    },
    "language_info": {
      "name": "python"
    }
  },
  "cells": [
    {
      "cell_type": "markdown",
      "metadata": {
        "id": "YMF-a7cDzu2H"
      },
      "source": [
        "#MUCAD-CLF Description\n",
        "As Onshape Analytics provides a rich but enormous dataset -- logging all user actions in an Onshape document -- it can be challenging to efficiently visualize and compare the data of different users. We first adapted and developed two action classification methods in this framework to organize and count the recorded action data in several meaningful categories. Then, we generated script for creatively plotting the counts for visaulization and comparison. A full description and demonstration of the framework is published in this [journal paper](https://doi.org/10.1016/j.aei.2021.101446). \n",
        "\n",
        "Deng Y, Mueller M, Rogers C, Olechowski A. The Multi-User Computer-Aided Design Collaborative Learning Framework. _Adv Eng Informatics_. 2022;51:101446. doi:10.1016/j.aei.2021.101446\n",
        "\n",
        "\n",
        "**Design Space Classification**\n",
        "\n",
        "<p align=\"center\">\n",
        "<img src=\"https://drive.google.com/uc?id=1tZm5u4xv2Ec29TmHgHrUO0qkeJoRKh9m\" width=\"500\">\n",
        "</p>\n",
        "\n",
        "**Action Type Classification**\n",
        "\n",
        "<p align=\"center\">\n",
        "<img src=\"https://drive.google.com/uc?id=1JvZpsVKoGAlRLqlxe17l_Yvb4J7MixOb\" width=\"500\">\n",
        "</p>\n",
        "\n",
        "Using the Action Type Classification, the **creation/revision ratio (CR ratio)** is defined to be $\\text{CR Ratio}=\\frac{\\text{# of creating actions}}{\\text{# of revising actions}}$"
      ]
    },
    {
      "cell_type": "markdown",
      "metadata": {
        "id": "ZkhgnuaW0tdC"
      },
      "source": [
        "#Audit Trails Preparation\n",
        "Please follow the following procedures to download and prepare audit trails from your Onshape Enterprise account for analysis. Plots to be generated will be used to compare data between each audit trail analyzed. It is recommended to download audit trails separately for each file and/or user to be analyzed. \n",
        "\n",
        "1. Download audit trails from your Onshape Enterprise account as **csv files** as shown in the images below. (Note: please use the method outlined below, otherwise the downloaded audit trail may only contain a maximum of 500 entries.) \n",
        "- Filter out the audit trails from the file and/or user to be analyzed. \n",
        "\n",
        "<p align=\"center\">\n",
        "<img src=\"https://drive.google.com/uc?id=1Mu5DwJcrqNG43tz5vFBthUOx_xDchNde\" width=\"500\">\n",
        "</p>\n",
        "\n",
        "- Select the appropriate format of audit trails to be downloaded and specify filenames (will be used for plotting). \n",
        "\n",
        "<p align=\"center\">\n",
        "<img src=\"https://drive.google.com/uc?id=1ZcJ2sccl5pxHK6503E6WORgSgWWW2qhJ\" width=\"500\">\n",
        "</p>\n",
        "\n",
        "2. Unzip the downloaded files and organize all csv files (the audit trails) in **one folder**. \n",
        "3. Upload and provide access to the folder using **one of the two methods**. "
      ]
    },
    {
      "cell_type": "markdown",
      "metadata": {
        "id": "CbMVzcEJa81s"
      },
      "source": [
        "##Option 1 \n",
        "Upload the audit trails to your Google Drive **as a folder**, and then run only code for Option 1 to mount this notebook to your Drive. "
      ]
    },
    {
      "cell_type": "code",
      "metadata": {
        "id": "49cBYndy0UgO",
        "colab": {
          "base_uri": "https://localhost:8080/"
        },
        "outputId": "70b13df5-b079-4f1c-a556-8e147d0fe651"
      },
      "source": [
        "# Option 1: upload to Google Drive and mount this notebook to your Drive \n",
        "from google.colab import drive\n",
        "drive.mount('/content/drive')"
      ],
      "execution_count": null,
      "outputs": [
        {
          "output_type": "stream",
          "name": "stdout",
          "text": [
            "Mounted at /content/drive\n"
          ]
        }
      ]
    },
    {
      "cell_type": "markdown",
      "metadata": {
        "id": "7FsKYAhfbAl9"
      },
      "source": [
        "##Option 2 \n",
        "1. Compress the folder containing all the audit trails as a zip file. \n",
        "2. Run only code for Option 2 to directly upload the zip file to the hosted runtime of this notebook (files will not be saved once you close this browser window). "
      ]
    },
    {
      "cell_type": "code",
      "metadata": {
        "id": "VAARdsPI1UDK",
        "colab": {
          "resources": {
            "http://localhost:8080/nbextensions/google.colab/files.js": {
              "data": "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",
              "ok": true,
              "headers": [
                [
                  "content-type",
                  "application/javascript"
                ]
              ],
              "status": 200,
              "status_text": ""
            }
          },
          "base_uri": "https://localhost:8080/",
          "height": 73
        },
        "outputId": "2c65aac2-e6f7-4580-cd06-fb01a23254e0"
      },
      "source": [
        "# Option 2: upload directly to this notebook\n",
        "from google.colab import files\n",
        "uploaded = files.upload()"
      ],
      "execution_count": null,
      "outputs": [
        {
          "output_type": "display_data",
          "data": {
            "text/html": [
              "\n",
              "     <input type=\"file\" id=\"files-354da7ba-65e4-4ac5-be2b-5295ea1cf6ed\" name=\"files[]\" multiple disabled\n",
              "        style=\"border:none\" />\n",
              "     <output id=\"result-354da7ba-65e4-4ac5-be2b-5295ea1cf6ed\">\n",
              "      Upload widget is only available when the cell has been executed in the\n",
              "      current browser session. Please rerun this cell to enable.\n",
              "      </output>\n",
              "      <script src=\"/nbextensions/google.colab/files.js\"></script> "
            ],
            "text/plain": [
              "<IPython.core.display.HTML object>"
            ]
          },
          "metadata": {}
        },
        {
          "output_type": "stream",
          "name": "stdout",
          "text": [
            "Saving audit_trails.zip to audit_trails.zip\n"
          ]
        }
      ]
    },
    {
      "cell_type": "markdown",
      "metadata": {
        "id": "YVJBrxcHb12n"
      },
      "source": [
        "3. Locate the file as shown in the image below and copy the path of the file to the code below after \"!unzip\". \n",
        "\n",
        "<p align=\"center\">\n",
        "<img src=\"https://drive.google.com/uc?id=1NyrTu4QckDMjyS4onrfFf8hjw63bpe6b\" width=\"500\">\n",
        "</p>\n",
        "\n",
        "4. Run the code below to unzip the files as a folder. "
      ]
    },
    {
      "cell_type": "code",
      "metadata": {
        "id": "x3CjH1d5a0AM",
        "colab": {
          "base_uri": "https://localhost:8080/"
        },
        "outputId": "d28f7a8e-31e1-458b-918e-8ed883a02ee4"
      },
      "source": [
        "!unzip /content/audit_trails.zip"
      ],
      "execution_count": null,
      "outputs": [
        {
          "output_type": "stream",
          "name": "stdout",
          "text": [
            "Archive:  /content/audit_trails.zip\n",
            "   creating: audit_trails/\n",
            "  inflating: audit_trails/.DS_Store  \n",
            "  inflating: __MACOSX/audit_trails/._.DS_Store  \n",
            "  inflating: audit_trails/User1.csv  \n",
            "  inflating: __MACOSX/audit_trails/._User1.csv  \n",
            "  inflating: audit_trails/User2.csv  \n",
            "  inflating: __MACOSX/audit_trails/._User2.csv  \n"
          ]
        }
      ]
    },
    {
      "cell_type": "markdown",
      "metadata": {
        "id": "tctSBM7NXyC6"
      },
      "source": [
        "#Locating Directory\n",
        "To locate the directory of the uploaded folder, containing all the audit trails for analysis, please follow the instructions below: \n",
        "* For uploading Option 1 above: locate the audit trails folder in \"MyDrive\" and copy the path of the folder as the directory. \n",
        "* For uploading Option 2 above: copy the path of the unzipped folder as the directory. \n",
        "\n",
        "With the path copied, paste it to the **`audit_trails_directory`** variable in the MUCAD-CLF code form below. \n",
        "\n",
        "<p align=\"center\">\n",
        "<img src=\"https://drive.google.com/uc?id=1kWrAL_nZS8QsNi0r_57hcBVDPZJhPEqO\" width=\"500\">\n",
        "</p>\n",
        "\n"
      ]
    },
    {
      "cell_type": "markdown",
      "metadata": {
        "id": "m1wQWbIQk12J"
      },
      "source": [
        "#MUCAD-CLF Code"
      ]
    },
    {
      "cell_type": "code",
      "metadata": {
        "colab": {
          "base_uri": "https://localhost:8080/",
          "height": 1000
        },
        "id": "5b6HcRxRzw9T",
        "cellView": "form",
        "outputId": "5be1f83c-7b80-42a6-b562-9e2527a86a06"
      },
      "source": [
        "#@markdown ---\n",
        "#@markdown Copy the directory path to the folder that contains all the audit trails for analysis\n",
        "audit_trails_directory = '/content/drive/MyDrive/audit_trails'  #@param {type: \"string\"}\n",
        "#@markdown Please specify the types of plots you would like to generate and adjust figure size if necessary: \n",
        "plot_design_space_percentage = True  #@param {type: \"boolean\"}\n",
        "dsp_width =   10.5#@param {type: \"number\"} # default 10.5\n",
        "dsp_height =   8#@param {type: \"number\"} # default 8 \n",
        "plot_action_type_percentage = True  #@param {type: \"boolean\"} \n",
        "atp_width =   9#@param {type: \"number\"} # default 9 \n",
        "atp_height =   8#@param {type: \"number\"} # default 8 \n",
        "plot_cr_ratio = True  #@param {type: \"boolean\"}\n",
        "crr_width = 6  #@param {type: \"number\"} # default 6 \n",
        "crr_height = 5  #@param {type: \"number\"} # default 5\n",
        "#@markdown If multiple users are found in one audit trail, would you like them to be counted separately?\n",
        "separate_users = False  #@param {type: \"boolean\"} \n",
        "#@markdown For the plots, would you like the files/participants on the plot be ordered by number of actions, \n",
        "#@markdown or be ordered alphabetically by default? \n",
        "order_by_count = True  #@param {type: \"boolean\"}\n",
        "#@markdown ---\n",
        "\n",
        "import os \n",
        "import csv \n",
        "import pandas as pd\n",
        "import numpy as np\n",
        "from typing import List, Tuple, Dict, Union\n",
        "import matplotlib.pyplot as plt\n",
        "from matplotlib import ticker\n",
        "\n",
        "def classify_design_space(action: str) -> int:\n",
        "    \"\"\"\n",
        "    The returning index corresponds to the list stored in \"count\":\n",
        "    [sketching, 3D features, mating, visualizing, browsing, other organizing]\n",
        "\n",
        "    Formulas for each design space action:\n",
        "        sketching = \"Add or modify a sketch\" + \"Copy paste sketch\"\n",
        "        3D features = \"Commit add or edit of part studio feature\" + \"Delete part studio feature\"\n",
        "                    - \"Add or modify a sketch\"\n",
        "        mating = \"Add assembly feature\" + \"Delete assembly feature\" + \"Add assembly instance\"\n",
        "                    + \"Delete assembly instance\"\n",
        "        visualizing = \"Start assembly drag\" + \"Animate action called\"\n",
        "        browsing = Opening a tab + Creating a tab + Deleting a tab + Renaming a tab\n",
        "        other organizing = \"Create version\" + \"Cancel Operation\" + \"Undo Redo Operation\"\n",
        "                    + \"Merge branch\" + \"Branch workspace\" + \"Update version\"\n",
        "\n",
        "    :param action: the action to be classified\n",
        "    :return: the index of the action type that this action is accounted for; if the action does not\n",
        "            belong to any category, return -1\n",
        "\n",
        "            Note:   \"Add or modify a sketch\" is special (+1 for sketching and -1 for 3D features),\n",
        "                    return -10\n",
        "    \"\"\"\n",
        "    # Creating a sketch is special as it affects both the sketching and the 3D features counts\n",
        "    if action == \"Add or modify a sketch\":\n",
        "        return -10\n",
        "    # Sketching\n",
        "    elif action == \"Copy paste sketch\":\n",
        "        return 0\n",
        "    # 3D features\n",
        "    elif action in [\"Commit add or edit of part studio feature\",\n",
        "                    \"Delete part studio feature\"]:\n",
        "        return 1\n",
        "    # Mating\n",
        "    elif action in [\"Add assembly feature\", \"Delete assembly feature\", \"Add assembly instance\"\n",
        "                    \"Delete assembly instance\"]:\n",
        "        return 2\n",
        "    # Visualizing\n",
        "    elif action in [\"Start assembly drag\", \"Animate action called\"]:\n",
        "        return 3\n",
        "    # Browsing\n",
        "    elif \"Tab\" in action and (\"opened\" in action or \"created\" in action or \"deleted\" in action or\n",
        "                              \"renamed\" in action):\n",
        "        return 4\n",
        "    # Other organizing\n",
        "    elif action in [\"Create version\", \"Cancel Operation\", \"Undo Redo Operation\", \"Merge branch\",\n",
        "                    \"Branch workspace\", \"Update version\"]:\n",
        "        return 5\n",
        "    # Not classified (Optional: print out the unclassified actions)\n",
        "    else:\n",
        "        return -1\n",
        "\n",
        "def classify_action_type(action: str) -> int:\n",
        "    \"\"\"\n",
        "    The returning index corresponds to the list stored in \"count\":\n",
        "    [creating, editing, deleting, revising, viewing, other]\n",
        "\n",
        "    Formulas for each design space action:\n",
        "        creating = \"Add part studio feature\" + \"Add assembly feature\" + \"Add assembly instance\"\n",
        "                    + \"Copy paste sketch\"\n",
        "        editing = \"Start edit of part studio feature\" + \"Start edit of assembly feature\"\n",
        "                    + \"Set mate values\"\n",
        "        deleting = \"Delete part studio feature\" + \"Delete assembly feature\"\n",
        "                    + \"Delete assembly instance\"\n",
        "        revising = \"Cancel Operation\" + \"Undo Redo Operation\"\n",
        "        viewing = Opening a tab + \"Animate action called\"\n",
        "        other = Creating a tab + Deleting a tab + \"Create version\" + Renaming a tab\n",
        "                    + \"Merge branch\" + \"Branch workspace\" + \"Update version\"\n",
        "\n",
        "    :param action: the action to be classified\n",
        "    :return: the index of the action type that this action is accounted for; if the action does not\n",
        "            belong to any category, return -1\n",
        "    \"\"\"\n",
        "    # Creating\n",
        "    if action in [\"Add part studio feature\", \"Add assembly feature\", \"Add assembly instance\",\n",
        "                  \"Copy paste sketch\"]:\n",
        "        return 0\n",
        "    # Editing\n",
        "    elif action in [\"Start edit of part studio feature\", \"Start edit of assembly feature\",\n",
        "                    \"Set mate values\"]:\n",
        "        return 1\n",
        "    # Deleting\n",
        "    elif action in [\"Delete part studio feature\", \"Delete assembly feature\",\n",
        "                    \"Delete assembly instance\"]:\n",
        "        return 2\n",
        "    # Revising\n",
        "    elif action in [\"Cancel Operation\", \"Undo Redo Operation\"]:\n",
        "        return 3\n",
        "    # Viewing\n",
        "    elif action == \"Animate action called\" or (\"Tab\" in action and \"opened\" in action):\n",
        "        return 4\n",
        "    # Other\n",
        "    elif action in [\"Create version\", \"Merge branch\", \"Branch workspace\", \"Update version\"] \\\n",
        "            or (\"Tab\" in action and\n",
        "                (\"created\" in action or \"deleted\" in action or \"renamed\" in action)):\n",
        "        return 5\n",
        "    # Not classified (Optional: print out the unclassified actions)\n",
        "    else:\n",
        "        return -1\n",
        "\n",
        "def aggregate_count(reader: iter, file_name: str) -> Dict:\n",
        "    \"\"\"\n",
        "    Aggregate count of actions classified using the design space classification and the\n",
        "    action type classification method.\n",
        "    :param reader: the csv reader of the audit trail file.\n",
        "    :param file_name: the name of the csv file that is being analyzed. \n",
        "    :return: a dictionary of counts for the file/each user in the file (depending on \n",
        "            if separate_users is selected); counts are stored a nested list of count \n",
        "            of actions classified using the design space and the action type \n",
        "            classification methods.\n",
        "\n",
        "            List items in the output Dict correspond to the following count:\n",
        "            [[sketching, 3D features, mating, visualizing, browsing, other organizing],\n",
        "             [creating, editing, deleting, revising, viewing, other]]\n",
        "    \"\"\"\n",
        "    empty_count = [[0, 0, 0, 0, 0, 0],\n",
        "                   [0, 0, 0, 0, 0, 0]]\n",
        "    next(reader)\n",
        "    if not separate_users: \n",
        "        count = empty_count\n",
        "    else: \n",
        "        count = {}\n",
        "    for row in reader:\n",
        "        \"\"\"\n",
        "        Each row has format: \n",
        "        ['Index', 'Event Time', 'Document', 'Tab', 'User', 'Description']\n",
        "        Example: \n",
        "        ['1', '2021-08-21 19:12:19', 'Doc', 'N/A', 'x@x.com', 'Close document']\n",
        "        \"\"\"\n",
        "        # Classify actions in design space\n",
        "        design_space = classify_design_space(row[5].strip())\n",
        "        if design_space != -1:\n",
        "            if design_space == -10:  # the special \"Add or modify a sketch\" action\n",
        "                if not separate_users: \n",
        "                    count[0][0] += 1\n",
        "                    count[0][1] -= 1\n",
        "                else: \n",
        "                    user = file_name + '/' + row[4].strip().split(\"@\")[0]\n",
        "                    if user not in count: \n",
        "                        count[user] = empty_count\n",
        "                    count[user][0][0] += 1\n",
        "                    count[user][0][1] -= 1\n",
        "            else:\n",
        "                if not separate_users: \n",
        "                    count[0][design_space] += 1\n",
        "                else: \n",
        "                    user = file_name + '/' + row[4].strip().split(\"@\")[0]\n",
        "                    if user not in count: \n",
        "                        count[user] = empty_count\n",
        "                    count[user][0][design_space] += 1\n",
        "        # Classify actions in action type\n",
        "        action_type = classify_action_type(row[5].strip())\n",
        "        if action_type >= 0:\n",
        "            if not separate_users: \n",
        "                count[1][action_type] += 1\n",
        "            else: \n",
        "                user = file_name + '/' + row[4].strip().split(\"@\")[0]\n",
        "                if user not in count: \n",
        "                    count[user] = empty_count\n",
        "                count[user][1][action_type] += 1\n",
        "    if separate_users: \n",
        "        return count\n",
        "    else: \n",
        "        return {file_name: count}\n",
        "\n",
        "def _plot_percentage(df: pd.DataFrame, category_names: List[str], fig_size: Tuple[float]) -> None:\n",
        "    \"\"\"\n",
        "    Internal function for plotting percentages of actions spent between different categories in\n",
        "    category_names.\n",
        "    :param df: data read from Counts.csv in pandas DataFrame\n",
        "    :param category_names: categories of actions being considered and plotted\n",
        "    :param fig_size: specified figure size in (width, height)\n",
        "    :return: a plot is shown \n",
        "    \"\"\"\n",
        "    data = df[category_names].to_numpy(dtype=float)\n",
        "    user_labels = df[\"File Name\"].to_numpy(dtype=str)\n",
        "    data_labels = df[category_names].to_numpy(dtype=int)\n",
        "    for i in range(len(data)):\n",
        "        temp_sum = sum(data[i])\n",
        "        for j in range(6):\n",
        "            data[i][j] /= temp_sum\n",
        "\n",
        "    fig, ax = plt.subplots(figsize=fig_size)\n",
        "    category_colors = plt.get_cmap('RdYlGn')(np.linspace(0.15, 0.85, data.shape[1]))  # Set colour\n",
        "\n",
        "    ax.invert_yaxis()\n",
        "    ax.set_xlim(0, 1)\n",
        "    ax.set_ylabel(\"Users\")\n",
        "    data_cum = data.cumsum(axis=1)\n",
        "    for i, (colname, color) in enumerate(zip(category_names, category_colors)):\n",
        "        widths = data[:, i]\n",
        "        starts = data_cum[:, i] - widths\n",
        "        ax.barh(user_labels, widths, left=starts, label=colname, color=color)\n",
        "        xcenters = starts + widths / 2\n",
        "        for y, (x, c) in enumerate(zip(xcenters, widths)): \n",
        "            ax.text(x, y, data_labels[y, i], ha='center', va='center', color='black')\n",
        "    ax.legend(ncol=len(category_names), bbox_to_anchor=(0, 1), loc='lower left')\n",
        "    ax.xaxis.set_major_formatter(ticker.PercentFormatter(xmax=1))\n",
        "\n",
        "    plt.tight_layout()\n",
        "    plt.show()\n",
        "\n",
        "\n",
        "def design_space_percentage(df: pd.DataFrame) -> None:\n",
        "    \"\"\"\n",
        "    Visualize the percentage of actions spent in different design spaces\n",
        "    :param df: data read from Counts.csv in pandas DataFrame\n",
        "    :return: a plot is shown and saved if specified\n",
        "    \"\"\"\n",
        "    category_names = [\"Sketching\", \"3D Features\", \"Mating\", \"Visualizing\", \"Browsing\",\n",
        "                      \"Other Organizing\"]\n",
        "    _plot_percentage(df, category_names, (dsp_width, dsp_height))\n",
        "\n",
        "\n",
        "def action_type_percentage(df: pd.DataFrame) -> None:\n",
        "    \"\"\"\n",
        "    Visualize the percentage of actions spent in different action types\n",
        "    :param df: data read from Counts.csv in pandas DataFrame\n",
        "    :return: a plot is shown and saved if specified\n",
        "    \"\"\"\n",
        "    category_names = [\"Creating\", \"Editing\", \"Deleting\", \"Reversing\", \"Viewing\", \"Other\"]\n",
        "    _plot_percentage(df, category_names, (atp_width, atp_height))\n",
        "\n",
        "def cr_ratio(df: pd.DataFrame) -> None:\n",
        "    \"\"\"\n",
        "    Visualize the creation/revision ratio of every individual user\n",
        "    :param df: data read from Counts.csv in pandas DataFrame\n",
        "    :return: a plot is shown and saved if specified\n",
        "    \"\"\"\n",
        "    data = pd.DataFrame(df)\n",
        "    data[\"cr\"] = df[\"Creating\"] / (df[\"Editing\"] + df[\"Deleting\"] + df[\"Reversing\"])\n",
        "    cr = df[\"cr\"].to_numpy()\n",
        "    user_labels = df[\"File Name\"].to_numpy(dtype=str)\n",
        "\n",
        "    fig, ax = plt.subplots(figsize=(crr_width, crr_height))\n",
        "\n",
        "    ind = np.arange(len(user_labels))\n",
        "    p = ax.bar(ind, cr)\n",
        "    ax.set_ylabel('Ratio of Creation/Revision')\n",
        "    ax.set_xticks(ind)\n",
        "    ax.set_xticklabels(user_labels)\n",
        "    ax.set_xlabel(\"Users\")\n",
        "    for rect in p:\n",
        "        height = rect.get_height()\n",
        "        ax.annotate('{:.2f}'.format(height),\n",
        "                    xy=(rect.get_x() + rect.get_width() / 2, height),\n",
        "                    xytext=(0, 3),  # 3 points vertical offset\n",
        "                    textcoords=\"offset points\",\n",
        "                    ha='center', va='bottom')\n",
        "\n",
        "    plt.tight_layout()\n",
        "    plt.show()\n",
        "\n",
        "# Store the counts computed for each audit trail file\n",
        "counts = {}\n",
        "\n",
        "# Analyze all files in the \"sample_audit_trails\" folder\n",
        "if audit_trails_directory[-1] == '/': \n",
        "    directory = audit_trails_directory\n",
        "else: \n",
        "    directory = audit_trails_directory + '/'\n",
        "for _, _, files in os.walk(directory):\n",
        "    for File in files:\n",
        "        if File.endswith(\".csv\"):\n",
        "            with open(directory + File, 'r') as audit_trail_csv:\n",
        "                reader = csv.reader(audit_trail_csv)\n",
        "                counts = {**counts, **aggregate_count(reader, File[:-4])}\n",
        "\n",
        "# Record counts in a new csv file\n",
        "with open(\"Counts.csv\", 'w') as record_csv:\n",
        "    writer = csv.writer(record_csv)\n",
        "    writer.writerow([\"File Name\", \"Sketching\", \"3D Features\", \"Mating\", \"Visualizing\",\n",
        "                     \"Browsing\", \"Other Organizing\", \"Creating\", \"Editing\", \"Deleting\",\n",
        "                     \"Reversing\", \"Viewing\", \"Other\", \"Total\"])\n",
        "    for name, count_list in counts.items():\n",
        "        temp = [name]\n",
        "        temp.extend(count_list[0])\n",
        "        temp.extend(count_list[1])\n",
        "        temp.append(sum(count_list[1]))\n",
        "        writer.writerow(temp)\n",
        "\n",
        "count_data = pd.read_csv(\"Counts.csv\")\n",
        "if order_by_count: \n",
        "    count_data = count_data.sort_values(by=[\"Total\"], ascending=False)\n",
        "\n",
        "if plot_design_space_percentage: \n",
        "    design_space_percentage(count_data)\n",
        "if plot_action_type_percentage: \n",
        "    action_type_percentage(count_data)\n",
        "if plot_cr_ratio: \n",
        "    cr_ratio(count_data)"
      ],
      "execution_count": 3,
      "outputs": [
        {
          "output_type": "display_data",
          "data": {
            "image/png": "[encoded data removed]",
            "text/plain": [
              "<Figure size 756x576 with 1 Axes>"
            ]
          },
          "metadata": {
            "needs_background": "light"
          }
        },
        {
          "output_type": "display_data",
          "data": {
            "image/png": "[encoded data removed]",
            "text/plain": [
              "<Figure size 648x576 with 1 Axes>"
            ]
          },
          "metadata": {
            "needs_background": "light"
          }
        },
        {
          "output_type": "display_data",
          "data": {
            "image/png": "[encoded data removed]",
            "text/plain": [
              "<Figure size 432x360 with 1 Axes>"
            ]
          },
          "metadata": {
            "needs_background": "light"
          }
        }
      ]
    },
    {
      "cell_type": "markdown",
      "metadata": {
        "id": "wkVFBkdJKydE"
      },
      "source": [
        "#Saving Analysis Results\n",
        "After the above code is ran and plots are generated, there are several types of data that can be saved. \n",
        "1. Save the counts for all analyzed audit trails as a csv file. \n",
        "\n",
        "<p align=\"center\">\n",
        "<img src=\"https://drive.google.com/uc?id=1pTNx1OQAZTHxCIJlT77QZHRbdpo-JrEY\" width=\"500\">\n",
        "</p>\n",
        "\n",
        "2. Save the plots generated from running the code above. \n",
        "\n",
        "<p align=\"center\">\n",
        "<img src=\"https://drive.google.com/uc?id=15mpkYs1D7Mlv3Y9wvXyBDb9FsSYAA6Fu\" width=\"500\">\n",
        "</p>\n"
      ]
    }
  ]
}